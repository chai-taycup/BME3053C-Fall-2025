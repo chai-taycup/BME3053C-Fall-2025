{
  "nbformat": 4,
  "nbformat_minor": 0,
  "metadata": {
    "colab": {
      "provenance": [],
      "authorship_tag": "ABX9TyMJtYdLzPMMvsfQ25eezfsk",
      "include_colab_link": true
    },
    "kernelspec": {
      "name": "python3",
      "display_name": "Python 3"
    },
    "language_info": {
      "name": "python"
    }
  },
  "cells": [
    {
      "cell_type": "markdown",
      "metadata": {
        "id": "view-in-github",
        "colab_type": "text"
      },
      "source": [
        "<a href=\"https://colab.research.google.com/github/chai-taycup/BME3053C-Fall-2025/blob/main/homework_3.ipynb\" target=\"_parent\"><img src=\"https://colab.research.google.com/assets/colab-badge.svg\" alt=\"Open In Colab\"/></a>"
      ]
    },
    {
      "cell_type": "code",
      "execution_count": 23,
      "metadata": {
        "colab": {
          "base_uri": "https://localhost:8080/"
        },
        "id": "4XxQezmZgUhq",
        "outputId": "057ac5ca-fd06-4275-9b19-3d51a575c59e"
      },
      "outputs": [
        {
          "output_type": "stream",
          "name": "stdout",
          "text": [
            "32\n"
          ]
        }
      ],
      "source": [
        "import math\n",
        "import random\n",
        "\n",
        "ppg_signal = [1000 + 100 * math.sin(0.1 * x) + random.randint(-20, 20) for x in range(100)]\n",
        "\n",
        "def identify_ppg_peaks(x:list):\n",
        "  peaks = 0\n",
        "  for i in range(1,len(x)-1):\n",
        "  # if both of the following are true it is a peak\n",
        "    if x[i] > x[i - 1] and x[i] > x[i + 1] :\n",
        "      peaks = peaks + 1\n",
        "  return peaks\n",
        "\n",
        "final_peaks = identify_ppg_peaks(ppg_signal)\n",
        "\n",
        "print(final_peaks)\n"
      ]
    }
  ]
}