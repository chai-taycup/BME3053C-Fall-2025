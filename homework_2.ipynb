{
  "nbformat": 4,
  "nbformat_minor": 0,
  "metadata": {
    "colab": {
      "provenance": [],
      "authorship_tag": "ABX9TyPFBxL5iVxrtlT/7DYlqirh",
      "include_colab_link": true
    },
    "kernelspec": {
      "name": "python3",
      "display_name": "Python 3"
    },
    "language_info": {
      "name": "python"
    }
  },
  "cells": [
    {
      "cell_type": "markdown",
      "metadata": {
        "id": "view-in-github",
        "colab_type": "text"
      },
      "source": [
        "<a href=\"https://colab.research.google.com/github/chai-taycup/BME3053C-Fall-2025/blob/main/homework_2.ipynb\" target=\"_parent\"><img src=\"https://colab.research.google.com/assets/colab-badge.svg\" alt=\"Open In Colab\"/></a>"
      ]
    },
    {
      "cell_type": "code",
      "execution_count": 20,
      "metadata": {
        "colab": {
          "base_uri": "https://localhost:8080/"
        },
        "id": "SQ_rI9hkQ7f7",
        "outputId": "a198afb7-d6aa-4086-e59f-386b423c8c4f"
      },
      "outputs": [
        {
          "output_type": "stream",
          "name": "stdout",
          "text": [
            "[120, 137, 151, 123, 162, 173, 127, 154]\n",
            "[0.0, 0.32075471698113206, 0.5849056603773585, 0.05660377358490566, 0.7924528301886793, 1.0, 0.1320754716981132, 0.6415094339622641]\n"
          ]
        }
      ],
      "source": [
        "bp_readings = [120, 137, 151, 123, 162, 173, 127, 154]\n",
        "\n",
        "def normalize_systolic_bp(x: list):\n",
        "  y = []\n",
        "  min_value = min(x)\n",
        "  max_value = max(x)\n",
        "  for i in range(len(x)):\n",
        "    y.append((x[i]-min_value)/(max_value-min_value))\n",
        "  return y\n",
        "\n",
        "normalized_bp_readings = normalize_systolic_bp(bp_readings)\n",
        "\n",
        "print(bp_readings)\n",
        "print(normalized_bp_readings)"
      ]
    }
  ]
}